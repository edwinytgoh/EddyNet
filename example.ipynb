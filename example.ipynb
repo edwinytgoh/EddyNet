{
 "cells": [
  {
   "cell_type": "code",
   "execution_count": null,
   "metadata": {},
   "outputs": [],
   "source": [
    "import torch\n",
    "import xarray as xr\n",
    "import matplotlib.pyplot as plt\n",
    "\n",
    "\n",
    "# Load EddyNet with pre-trained weights and send to GPU if available\n",
    "model = torch.hub.load(\"edwinytgoh/eddynet\", \"eddynet\", pretrained=True, num_classes=3)\n",
    "device = torch.device(\"cuda\" if torch.cuda.is_available() else \"cpu\")\n",
    "model = model.to(device)\n",
    "\n",
    "# Obtain filtered ADT data as a numpy array\n",
    "!wget https://raw.githubusercontent.com/edwinytgoh/eddynet/master/data/dt_global_twosat_phy_l4_20220428_vDT2021.nc\n",
    "ds = xr.open_dataset(\"dt_global_twosat_phy_l4_20220428_vDT2021.nc\")\n",
    "adt = ds[\"adt\"].values.squeeze()\n",
    "\n",
    "# Convert ADT array to PyTorch tensor with batch dimension and channel dimension, each of size 1\n",
    "adt_tensor = torch.from_numpy(adt).reshape(1, 1, *adt.shape).float().to(device)\n",
    "adt_tensor[torch.isnan(adt_tensor)] = 0  # Set nan land masks to 0\n",
    "\n",
    "# Feed ADT tensor into EddyNet and obtain eddy mask\n",
    "logits = model(adt_tensor)\n",
    "eddy_mask = torch.argmax(logits, dim=1).squeeze().cpu().numpy()\n",
    "\n",
    "# Plot ADT and eddy masks\n",
    "fig, ax = plt.subplots(2, 1, figsize=(10, 10))\n",
    "im = ax[0].imshow(adt[::-1, ...])\n",
    "ax[0].set_title(\"Absolute Dynamic Topography (ADT) from 04-28-2022\")\n",
    "cbar = plt.colorbar(im, ax=ax[0])\n",
    "\n",
    "im = ax[1].imshow(eddy_mask[::-1, ...])\n",
    "ax[1].set_title(\"EddyNet Detected Eddies on 04-28-2022\")\n",
    "cbar = plt.colorbar(im, ax=ax[1], ticks=[0, 1, 2])\n",
    "cbar.ax.set_yticklabels([\"Negative\", \"Anticyclonic\", \"Cyclonic\"])\n",
    "plt.tight_layout()"
   ]
  }
 ],
 "metadata": {
  "kernelspec": {
   "display_name": "python38",
   "language": "python",
   "name": "python3"
  },
  "language_info": {
   "codemirror_mode": {
    "name": "ipython",
    "version": 3
   },
   "file_extension": ".py",
   "mimetype": "text/x-python",
   "name": "python",
   "nbconvert_exporter": "python",
   "pygments_lexer": "ipython3",
   "version": "3.8.12"
  },
  "orig_nbformat": 4
 },
 "nbformat": 4,
 "nbformat_minor": 2
}
